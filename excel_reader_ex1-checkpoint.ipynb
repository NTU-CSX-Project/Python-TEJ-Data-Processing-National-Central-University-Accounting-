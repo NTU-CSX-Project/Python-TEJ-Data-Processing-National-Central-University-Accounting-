{
 "cells": [
  {
   "cell_type": "code",
   "execution_count": 46,
   "metadata": {},
   "outputs": [],
   "source": [
    "import pandas as pd"
   ]
  },
  {
   "cell_type": "code",
   "execution_count": 47,
   "metadata": {},
   "outputs": [],
   "source": [
    "df = pd.read_excel('tejdb_20180921195252.xls')"
   ]
  },
  {
   "cell_type": "code",
   "execution_count": 48,
   "metadata": {},
   "outputs": [
    {
     "data": {
      "text/plain": [
       "(3, 6)"
      ]
     },
     "execution_count": 48,
     "metadata": {},
     "output_type": "execute_result"
    }
   ],
   "source": [
    "df.shape"
   ]
  },
  {
   "cell_type": "code",
   "execution_count": 49,
   "metadata": {},
   "outputs": [
    {
     "data": {
      "text/plain": [
       "3"
      ]
     },
     "execution_count": 49,
     "metadata": {},
     "output_type": "execute_result"
    }
   ],
   "source": [
    "df.shape[0]"
   ]
  },
  {
   "cell_type": "code",
   "execution_count": 50,
   "metadata": {},
   "outputs": [
    {
     "data": {
      "text/plain": [
       "6"
      ]
     },
     "execution_count": 50,
     "metadata": {},
     "output_type": "execute_result"
    }
   ],
   "source": [
    "df.shape[1]"
   ]
  },
  {
   "cell_type": "code",
   "execution_count": 51,
   "metadata": {},
   "outputs": [
    {
     "name": "stdout",
     "output_type": "stream",
     "text": [
      "[0, 0, 0]\n"
     ]
    }
   ],
   "source": [
    "s1 = []\n",
    "for i in range(df.shape[0]):\n",
    "   s1.append(0)\n",
    "print(s1)"
   ]
  },
  {
   "cell_type": "code",
   "execution_count": 52,
   "metadata": {},
   "outputs": [],
   "source": [
    "df.insert(0,'A',s1)"
   ]
  },
  {
   "cell_type": "code",
   "execution_count": 53,
   "metadata": {},
   "outputs": [],
   "source": [
    "i=0;\n",
    "catch=0\n",
    "# df.地址，在read_excel()進來時，第一列就會被當成他的屬性。所以df.地址就抓到地址這一行\n",
    "#接著把地址這行的資料一個一個餵給catch，注意如果吃到的是空格的話會被視為float的type(不能用來iterable)\n",
    "for catch in df.單月營收:\n",
    "    try:\n",
    "#如果抓到的字串有'台中市'三個字的話，回傳true給validate\n",
    "        validate= (catch>23000000)\n",
    "    except:\n",
    "        print(i)\n",
    "        i+=1\n",
    "        continue\n",
    "    if(validate):\n",
    "#df.iloc[x,y]可以抓到Excel表上某個位置。也可以直接改值，不過最後還是要存檔不然只會留在程式裡。\n",
    "        df.iloc[i,0]='有賺錢的企業'\n",
    "    else:\n",
    "        df.iloc[i,0]='賺很少的企業'\n",
    "    i+=1\n",
    "# df的to_excel('檔名加副檔名',sheet_name='Excel表的名稱')可以讓你把修改後的資料放進Excel，檔名也可以用同一個Excel做更新\n",
    "df.to_excel('TEST_result.xls',sheet_name='sheet1')"
   ]
  },
  {
   "cell_type": "code",
   "execution_count": null,
   "metadata": {},
   "outputs": [],
   "source": []
  }
 ],
 "metadata": {
  "kernelspec": {
   "display_name": "Python 3",
   "language": "python",
   "name": "python3"
  },
  "language_info": {
   "codemirror_mode": {
    "name": "ipython",
    "version": 3
   },
   "file_extension": ".py",
   "mimetype": "text/x-python",
   "name": "python",
   "nbconvert_exporter": "python",
   "pygments_lexer": "ipython3",
   "version": "3.6.5"
  }
 },
 "nbformat": 4,
 "nbformat_minor": 2
}
