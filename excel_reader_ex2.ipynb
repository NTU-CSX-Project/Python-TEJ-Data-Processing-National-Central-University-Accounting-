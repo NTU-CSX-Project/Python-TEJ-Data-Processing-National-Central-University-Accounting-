{
 "cells": [
  {
   "cell_type": "code",
   "execution_count": 15,
   "metadata": {},
   "outputs": [],
   "source": [
    "import pandas as pd"
   ]
  },
  {
   "cell_type": "markdown",
   "metadata": {},
   "source": [
    "先匯入pandas的模組，並用pd來代稱，才可以使用pandas裡面幫妳寫好的方法"
   ]
  },
  {
   "cell_type": "code",
   "execution_count": 16,
   "metadata": {},
   "outputs": [],
   "source": [
    "df = pd.read_excel('tejdb_20180921195252_string.xls')"
   ]
  },
  {
   "cell_type": "markdown",
   "metadata": {},
   "source": [
    "\".\"講白話就是從pandas模組內取出我們要用的方法(pandas裡面有很多可以用的方法)\n",
    "，在這邊我們使用的是 read_excel('這裡放excel的檔案名稱+xls的副檔名')\n",
    "，注意當你如上只有excel的檔案名稱時代表現在excel_reader_ex1這個python程式跟這著excel檔案\n",
    "在同一層資料夾位置中"
   ]
  },
  {
   "cell_type": "markdown",
   "metadata": {},
   "source": [
    "這邊代表從pd中呼叫read_excel的方法來讀名稱為tejdb_20180921195252.xls的excel檔案，pd會根據pandas的定義讀取這個excel檔案特定的資訊(包含檔案內的資料格式、檔案名稱、幾行幾列......等)，最後將讀到的這個檔案的所有資訊，以及pandas中對「這些資訊處裡的方法」都存在一個稱為pf的記憶體中，因此pf很像是一個代理人一樣，不只知道tejdb_20180921195252.xls這個檔案內的所有資料，也繼承了pandas中處理資料的手段"
   ]
  },
  {
   "cell_type": "code",
   "execution_count": 24,
   "metadata": {},
   "outputs": [
    {
     "data": {
      "text/plain": [
       "(3, 6)"
      ]
     },
     "execution_count": 24,
     "metadata": {},
     "output_type": "execute_result"
    }
   ],
   "source": [
    "df.shape"
   ]
  },
  {
   "cell_type": "markdown",
   "metadata": {},
   "source": [
    "上述存在\"pf\"的記憶體的資料中，有一組資料稱為shape，可以取得(常用回傳)目前excel檔案內的資料格式，3代表有3列(資料位置編號為0)，6代表有6欄(資料位置編號為1)，目前這份tejdb_20180921195252.xls檔案內的資料如下，可以看出有三列六攔，df內的資料如下"
   ]
  },
  {
   "cell_type": "markdown",
   "metadata": {},
   "source": [
    "公司(A)\t   年月(B)   營收發布日(C)\t  單月營收(D)\t   單月營收成長率％(E)\t   單月營收與上月比％-成長月數(F)\n",
    "2317 鴻海\t   2018/08\t 2018/09/10\t     396784599.00 \t  25.25\t                  4\n",
    "2330 台積電  2018/08   2018/09/10\t    91055038.00      -0.94\t                 2\n",
    "2353 宏碁    2018/08\t 2018/09/10\t     22357209.00 \t  11.47\t                  1\n"
   ]
  },
  {
   "cell_type": "code",
   "execution_count": 25,
   "metadata": {
    "scrolled": true
   },
   "outputs": [
    {
     "data": {
      "text/plain": [
       "3"
      ]
     },
     "execution_count": 25,
     "metadata": {},
     "output_type": "execute_result"
    }
   ],
   "source": [
    "df.shape[0]"
   ]
  },
  {
   "cell_type": "markdown",
   "metadata": {},
   "source": [
    "這裡代表我們要找shape裡面資料位置編號為0的資料內容，也就是得到這檔案的「列數」"
   ]
  },
  {
   "cell_type": "code",
   "execution_count": 17,
   "metadata": {},
   "outputs": [
    {
     "data": {
      "text/plain": [
       "6"
      ]
     },
     "execution_count": 17,
     "metadata": {},
     "output_type": "execute_result"
    }
   ],
   "source": [
    "df.shape[1]"
   ]
  },
  {
   "cell_type": "markdown",
   "metadata": {},
   "source": [
    "這裡代表我們要找shape裡面資料位置編號為1的資料內容"
   ]
  },
  {
   "cell_type": "code",
   "execution_count": 24,
   "metadata": {},
   "outputs": [
    {
     "name": "stdout",
     "output_type": "stream",
     "text": [
      "[0, 0, 0]\n"
     ]
    }
   ],
   "source": [
    "s1 = []\n",
    "for i in range(df.shape[0]):\n",
    "   s1.append(0)\n",
    "#appedn是list資料類別中處理的方法，代表將()內的數字從隊伍的後面塞進sl資料隊伍內\n",
    "print(s1)"
   ]
  },
  {
   "cell_type": "markdown",
   "metadata": {},
   "source": [
    "[]代表建立一個串列(list)的資料，然後用等於指定sl名稱的記憶體位置都只能儲存串列型態的資料"
   ]
  },
  {
   "cell_type": "markdown",
   "metadata": {},
   "source": [
    "之後建立一個for迴圈，迴圈執行的次數跟我們剛剛tejdb_20180921195252.xls檔案的欄位數一樣，每次執行時就會將0的數字「依序塞進」list的列隊中，所以如果再跑一次append(1)就會[0,0,0,1]"
   ]
  },
  {
   "cell_type": "code",
   "execution_count": 25,
   "metadata": {},
   "outputs": [],
   "source": [
    "df.insert(0,'產業類別',s1)"
   ]
  },
  {
   "cell_type": "markdown",
   "metadata": {},
   "source": [
    "接著把這3個零的sl資料用insert插入df中excel資料的第0行，且這行的TITLE改成產業類別，因此在df內就變下面(那如果改0->1呢)"
   ]
  },
  {
   "cell_type": "markdown",
   "metadata": {},
   "source": [
    "產業類別(A)      公司(B)\t      年月(C)      營收發布日(D)\t  單月營收(E)\t   單月營收成長率％(F)\t   單月營收與上月比％-成長月數(G)\n",
    "0                2317 鴻海\t  2018/08\t   2018/09/10\t     396784599.00 \t  25.25\t                  4\n",
    "0                330 台積電     2018/08      2018/09/10\t    91055038.00      -0.94\t                 2\n",
    "0                2353 宏碁      2018/08\t   2018/09/10\t     22357209.00 \t  11.47\t                  1\n"
   ]
  },
  {
   "cell_type": "markdown",
   "metadata": {},
   "source": [
    "整理好代理人df內的資料後，我們就可以開始對df內的excel資料來做處裡跟簡單分析啦!方法如下"
   ]
  },
  {
   "cell_type": "code",
   "execution_count": 26,
   "metadata": {},
   "outputs": [
    {
     "name": "stdout",
     "output_type": "stream",
     "text": [
      "2\n"
     ]
    }
   ],
   "source": [
    "i=0;\n",
    "catch=0\n",
    "# df.地址，在read_excel()進來時，第一列就會被當成他的屬性。所以df.單月營收就抓到單月營收這一行\n",
    "#接著把「公司」這行的資料一個一個餵給catch，注意如果吃到的是空格的話會被視為float的type，就會產生exception\n",
    "for catch in df.公司:\n",
    "    try:\n",
    "#如果catch裡面有'台積電'的字串出現話，validate就是true，反之false\n",
    "        validate= '台積電' in catch\n",
    "    except:\n",
    "        #如果catch裡面有null空格出現話，就會呼叫這個例外\n",
    "        print(i)\n",
    "        i+=1\n",
    "        continue\n",
    "    if(validate):\n",
    "#df.iloc[x,y]可以抓到Excel表上某個位置。也可以直接改值，不過最後還是要存檔不然只會留在程式裡。\n",
    "        df.iloc[i,0]='半導體產業'\n",
    "    else:\n",
    "        df.iloc[i,0]='其他產業'\n",
    "    i+=1\n",
    "# df的to_excel('檔名加副檔名','Excel表的名稱')可以讓你把修改後的資料放進Excel，檔名也可以用同一個Excel做更新\n",
    "df.to_excel('Industry_Type_result.xls',sheet_name='sheet1')"
   ]
  },
  {
   "cell_type": "markdown",
   "metadata": {},
   "source": [
    "excel的一個空格內如果甚麼都沒有，就代表這個空格是null，如果是0的話就不是null!"
   ]
  },
  {
   "cell_type": "code",
   "execution_count": null,
   "metadata": {},
   "outputs": [],
   "source": []
  }
 ],
 "metadata": {
  "kernelspec": {
   "display_name": "Python 3",
   "language": "python",
   "name": "python3"
  },
  "language_info": {
   "codemirror_mode": {
    "name": "ipython",
    "version": 3
   },
   "file_extension": ".py",
   "mimetype": "text/x-python",
   "name": "python",
   "nbconvert_exporter": "python",
   "pygments_lexer": "ipython3",
   "version": "3.6.5"
  }
 },
 "nbformat": 4,
 "nbformat_minor": 2
}
